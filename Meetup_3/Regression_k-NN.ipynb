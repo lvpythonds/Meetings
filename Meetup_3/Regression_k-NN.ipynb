{
 "metadata": {
  "name": "",
  "signature": "sha256:f44c092f1daf55539a282d142e87edb29cd59a5540b71d2a3bf4940bce35eefa"
 },
 "nbformat": 3,
 "nbformat_minor": 0,
 "worksheets": [
  {
   "cells": [
    {
     "cell_type": "markdown",
     "metadata": {},
     "source": [
      "# Linear Regression"
     ]
    },
    {
     "cell_type": "code",
     "collapsed": false,
     "input": [
      "%matplotlib inline\n",
      "import numpy as np\n",
      "import pandas as pd\n",
      "import matplotlib.pyplot as plt\n",
      "from scipy.optimize import fmin\n",
      "\n",
      "# Set some Pandas options\n",
      "#pd.set_option('display.notebook_repr_html', False)\n",
      "pd.set_option('display.max_columns', 20)\n",
      "pd.set_option('display.max_rows', 25)"
     ],
     "language": "python",
     "metadata": {},
     "outputs": [],
     "prompt_number": 3
    },
    {
     "cell_type": "code",
     "collapsed": false,
     "input": [
      "x = np.array([2.2, 4.3, 5.1, 5.8, 6.4, 8.0])\n",
      "y = np.array([0.4, 10.1, 14.0, 10.9, 15.4, 18.5])\n",
      "plt.plot(x,y,'ro')\n",
      "plt.xlim(2,9), plt.ylim(0,20)"
     ],
     "language": "python",
     "metadata": {},
     "outputs": [
      {
       "metadata": {},
       "output_type": "pyout",
       "prompt_number": 16,
       "text": [
        "((2, 9), (0, 20))"
       ]
      },
      {
       "metadata": {},
       "output_type": "display_data",
       "png": "[encoded data removed]",
       "text": [
        "<matplotlib.figure.Figure at 0x5ad0cf0>"
       ]
      }
     ],
     "prompt_number": 16
    },
    {
     "cell_type": "markdown",
     "metadata": {},
     "source": [
      "We can build a model to characterize the relationship between $X$ and $Y$, recognizing that additional factors other than $X$ (the ones we have measured or are interested in) may influence the response variable $Y$.\n",
      "\n",
      "<div style=\"font-size: 150%;\">  \n",
      "$y_i = f(x_i) + \\epsilon_i$\n",
      "</div>"
     ]
    },
    {
     "cell_type": "markdown",
     "metadata": {},
     "source": [
      "where $f$ is some function, for example a linear function:\n",
      "\n",
      "<div style=\"font-size: 150%;\">  \n",
      "$y_i = \\beta_0 + \\beta_1 x_i + \\epsilon_i$\n",
      "</div>"
     ]
    },
    {
     "cell_type": "markdown",
     "metadata": {},
     "source": [
      "and $\\epsilon_i$ accounts for the difference between the observed response $y_i$ and its prediction from the model $\\hat{y_i} = \\beta_0 + \\beta_1 x_i$. This is sometimes referred to as **process uncertainty**."
     ]
    },
    {
     "cell_type": "markdown",
     "metadata": {},
     "source": [
      "We would like to select $\\beta_0, \\beta_1$ so that the difference between the predictions and the observations is zero, but this is not usually possible. Instead, we choose a reasonable criterion: ***the smallest sum of the squared differences between $\\hat{y}$ and $y$***.\n",
      "\n",
      "<div style=\"font-size: 120%;\">  \n",
      "$$R^2 = \\sum_i (y_i - [\\beta_0 + \\beta_1 x_i])^2 = \\sum_i \\epsilon_i^2 $$  \n",
      "</div>\n",
      "\n",
      "Squaring serves two purposes: (1) to prevent positive and negative values from cancelling each other out and (2) to strongly penalize large deviations. Whether the latter is a good thing or not depends on the goals of the analysis.\n",
      "\n",
      "In other words, we will select the parameters that minimize the squared error of the model."
     ]
    },
    {
     "cell_type": "code",
     "collapsed": false,
     "input": [
      "ss = lambda beta, x, y: np.sum((y - beta[0] - beta[1]*x) ** 2)"
     ],
     "language": "python",
     "metadata": {},
     "outputs": [],
     "prompt_number": 22
    },
    {
     "cell_type": "code",
     "collapsed": false,
     "input": [
      "ss([np.mean(y),0],x,y)"
     ],
     "language": "python",
     "metadata": {},
     "outputs": [
      {
       "metadata": {},
       "output_type": "pyout",
       "prompt_number": 23,
       "text": [
        "195.97499999999997"
       ]
      }
     ],
     "prompt_number": 23
    },
    {
     "cell_type": "code",
     "collapsed": false,
     "input": [
      "b0,b1 = fmin(ss, [np.mean(y),0], args=(x,y))\n",
      "b0,b1\n"
     ],
     "language": "python",
     "metadata": {},
     "outputs": [
      {
       "output_type": "stream",
       "stream": "stdout",
       "text": [
        "Optimization terminated successfully.\n",
        "         Current function value: 21.375000\n",
        "         Iterations: 61\n",
        "         Function evaluations: 119\n"
       ]
      },
      {
       "metadata": {},
       "output_type": "pyout",
       "prompt_number": 24,
       "text": [
        "(-4.350015513552453, 3.0000059654986559)"
       ]
      }
     ],
     "prompt_number": 24
    },
    {
     "cell_type": "code",
     "collapsed": false,
     "input": [
      "plt.plot(x, y, 'ro')\n",
      "plt.plot([0,10], [b0, b0+b1*10])\n",
      "plt.xlim(2,9);plt.ylim(0,20)"
     ],
     "language": "python",
     "metadata": {},
     "outputs": [
      {
       "metadata": {},
       "output_type": "pyout",
       "prompt_number": 25,
       "text": [
        "(0, 20)"
       ]
      },
      {
       "metadata": {},
       "output_type": "display_data",
       "png": "[encoded data removed]",
       "text": [
        "<matplotlib.figure.Figure at 0x5c0b2f0>"
       ]
      }
     ],
     "prompt_number": 25
    },
    {
     "cell_type": "code",
     "collapsed": false,
     "input": [
      "plt.plot(x, y, 'ro')\n",
      "plt.plot([0,10], [b0, b0+b1*10])\n",
      "for xi, yi in zip(x,y):\n",
      "    plt.plot([xi]*2, [yi, b0+b1*xi], 'k:')\n",
      "plt.xlim(2,9); plt.ylim(0, 20)"
     ],
     "language": "python",
     "metadata": {},
     "outputs": [
      {
       "metadata": {},
       "output_type": "pyout",
       "prompt_number": 17,
       "text": [
        "(0, 20)"
       ]
      },
      {
       "metadata": {},
       "output_type": "display_data",
       "png": "[encoded data removed]",
       "text": [
        "<matplotlib.figure.Figure at 0x5c1dcd0>"
       ]
      }
     ],
     "prompt_number": 17
    },
    {
     "cell_type": "markdown",
     "metadata": {},
     "source": [
      "Minimizing the sum of squares is not the only criterion we can use; it is just a very popular (and successful) one. For example, we can try to minimize the sum of absolute differences:"
     ]
    },
    {
     "cell_type": "code",
     "collapsed": false,
     "input": [
      "sabs = lambda theta, x, y: np.sum(np.abs(y - theta[0] - theta[1]*x))\n",
      "b0,b1 = fmin(sabs, [0,1], args=(x,y))\n",
      "print b0,b1\n",
      "plt.plot(x, y, 'ro')\n",
      "plt.plot([0,10], [b0, b0+b1*10])\n",
      "plt.xlim(2,9);plt.ylim(0,20)"
     ],
     "language": "python",
     "metadata": {},
     "outputs": [
      {
       "output_type": "stream",
       "stream": "stdout",
       "text": [
        "Optimization terminated successfully.\n",
        "         Current function value: 10.162463\n",
        "         Iterations: 39\n",
        "         Function evaluations: 77\n",
        "0.00157170444494 2.31231743181\n"
       ]
      },
      {
       "metadata": {},
       "output_type": "pyout",
       "prompt_number": 28,
       "text": [
        "(0, 20)"
       ]
      },
      {
       "metadata": {},
       "output_type": "display_data",
       "png": "[encoded data removed]",
       "text": [
        "<matplotlib.figure.Figure at 0x5c373b0>"
       ]
      }
     ],
     "prompt_number": 28
    },
    {
     "cell_type": "markdown",
     "metadata": {},
     "source": [
      "We are not restricted to a straight-line regression model; we can represent a curved relationship between our variables by introducing **polynomial** terms. For example, a cubic model:\n",
      "\n",
      "<div style=\"font-size: 150%;\">  \n",
      "$y_i = \\beta_0 + \\beta_1 x_i + \\beta_2 x_i^2 + \\epsilon_i$\n",
      "</div>"
     ]
    },
    {
     "cell_type": "code",
     "collapsed": false,
     "input": [
      "ss2 = lambda theta, x, y: np.sum((y - theta[0] - theta[1]*x - theta[2]*(x**2)) ** 2)\n",
      "b0,b1,b2 = fmin(ss2, [1,1,-1], args=(x,y))\n",
      "print b0,b1,b2\n",
      "plt.plot(x, y, 'ro')\n",
      "xvals = np.linspace(0, 10, 100)\n",
      "plt.plot(xvals, b0 + b1*xvals + b2*(xvals**2))"
     ],
     "language": "python",
     "metadata": {},
     "outputs": [
      {
       "output_type": "stream",
       "stream": "stdout",
       "text": [
        "Optimization terminated successfully.\n",
        "         Current function value: 14.001110\n",
        "         Iterations: 198\n",
        "         Function evaluations: 372\n",
        "-11.0748186039 6.0576975948 -0.302681057088\n"
       ]
      },
      {
       "metadata": {},
       "output_type": "pyout",
       "prompt_number": 29,
       "text": [
        "[<matplotlib.lines.Line2D at 0x5c0b1f0>]"
       ]
      },
      {
       "metadata": {},
       "output_type": "display_data",
       "png": "[encoded data removed]",
       "text": [
        "<matplotlib.figure.Figure at 0x5c03030>"
       ]
      }
     ],
     "prompt_number": 29
    },
    {
     "cell_type": "markdown",
     "metadata": {},
     "source": [
      "Although polynomial model characterizes a nonlinear relationship, it is a linear problem in terms of estimation. That is, the regression model $f(y | x)$ is linear in the parameters.\n",
      "\n",
      "For some data, it may be reasonable to consider polynomials of order>2. For example, consider the relationship between the number of home runs a baseball player hits and the number of runs batted in (RBI) they accumulate; clearly, the relationship is positive, but we may not expect a linear relationship."
     ]
    },
    {
     "cell_type": "code",
     "collapsed": false,
     "input": [
      "ss3 = lambda theta, x, y: np.sum((y - theta[0] - theta[1]*x - theta[2]*(x**2)) ** 2)\n",
      "\n",
      "bb = pd.read_csv(\"C:/Users/Sean Najera/OneDrive/lvpythonds/meetings/Meetup_3/baseball.csv\", index_col=0)\n",
      "x=bb.hr\n",
      "y=bb.rbi\n",
      "plt.plot(x, y, 'r.')\n",
      "b0,b1,b2 = fmin(ss3, [np.mean(y),0,0], args=(x, y))\n",
      "xvals = np.arange(37)\n",
      "plt.plot(xvals, b0 + b1*xvals + b2*(xvals**2))\n",
      "'Intercept: ' + str(b0), 'beta1: ' + str(b1), 'beta2: ' + str(b2)"
     ],
     "language": "python",
     "metadata": {},
     "outputs": [
      {
       "output_type": "stream",
       "stream": "stdout",
       "text": [
        "Optimization terminated successfully.\n",
        "         Current function value: 4271.629677\n",
        "         Iterations: 136\n",
        "         Function evaluations: 251\n"
       ]
      },
      {
       "metadata": {},
       "output_type": "pyout",
       "prompt_number": 40,
       "text": [
        "('Intercept: 1.37854467083', 'beta1: 5.56916082793', 'beta2: -0.0882884366505')"
       ]
      },
      {
       "metadata": {},
       "output_type": "display_data",
       "png": "[encoded data removed]",
       "text": [
        "<matplotlib.figure.Figure at 0x73c2e70>"
       ]
      }
     ],
     "prompt_number": 40
    },
    {
     "cell_type": "markdown",
     "metadata": {},
     "source": [
      "Of course, we need not fit least squares models by hand. The `statsmodels` package implements least squares models that allow for model fitting in a single line:"
     ]
    },
    {
     "cell_type": "code",
     "collapsed": false,
     "input": [
      "from statsmodels.formula.api import ols \n",
      "\n",
      "data = pd.DataFrame(dict(x=x, y=y))\n",
      "cubic_fit = ols('y ~ x + I(x**2)', data).fit()\n",
      "\n",
      "cubic_fit.summary()"
     ],
     "language": "python",
     "metadata": {},
     "outputs": [
      {
       "html": [
        "<table class=\"simpletable\">\n",
        "<caption>OLS Regression Results</caption>\n",
        "<tr>\n",
        "  <th>Dep. Variable:</th>            <td>y</td>        <th>  R-squared:         </th> <td>   0.946</td>\n",
        "</tr>\n",
        "<tr>\n",
        "  <th>Model:</th>                   <td>OLS</td>       <th>  Adj. R-squared:    </th> <td>   0.945</td>\n",
        "</tr>\n",
        "<tr>\n",
        "  <th>Method:</th>             <td>Least Squares</td>  <th>  F-statistic:       </th> <td>   854.8</td>\n",
        "</tr>\n",
        "<tr>\n",
        "  <th>Date:</th>             <td>Mon, 23 Feb 2015</td> <th>  Prob (F-statistic):</th> <td>2.52e-62</td>\n",
        "</tr>\n",
        "<tr>\n",
        "  <th>Time:</th>                 <td>19:41:00</td>     <th>  Log-Likelihood:    </th> <td> -329.62</td>\n",
        "</tr>\n",
        "<tr>\n",
        "  <th>No. Observations:</th>      <td>   100</td>      <th>  AIC:               </th> <td>   665.2</td>\n",
        "</tr>\n",
        "<tr>\n",
        "  <th>Df Residuals:</th>          <td>    97</td>      <th>  BIC:               </th> <td>   673.1</td>\n",
        "</tr>\n",
        "<tr>\n",
        "  <th>Df Model:</th>              <td>     2</td>      <th>                     </th>     <td> </td>   \n",
        "</tr>\n",
        "</table>\n",
        "<table class=\"simpletable\">\n",
        "<tr>\n",
        "      <td></td>         <th>coef</th>     <th>std err</th>      <th>t</th>      <th>P>|t|</th> <th>[95.0% Conf. Int.]</th> \n",
        "</tr>\n",
        "<tr>\n",
        "  <th>Intercept</th> <td>    1.3786</td> <td>    0.800</td> <td>    1.723</td> <td> 0.088</td> <td>   -0.210     2.967</td>\n",
        "</tr>\n",
        "<tr>\n",
        "  <th>x</th>         <td>    5.5692</td> <td>    0.255</td> <td>   21.856</td> <td> 0.000</td> <td>    5.063     6.075</td>\n",
        "</tr>\n",
        "<tr>\n",
        "  <th>I(x ** 2)</th> <td>   -0.0883</td> <td>    0.010</td> <td>   -9.127</td> <td> 0.000</td> <td>   -0.107    -0.069</td>\n",
        "</tr>\n",
        "</table>\n",
        "<table class=\"simpletable\">\n",
        "<tr>\n",
        "  <th>Omnibus:</th>       <td>19.356</td> <th>  Durbin-Watson:     </th> <td>   2.035</td>\n",
        "</tr>\n",
        "<tr>\n",
        "  <th>Prob(Omnibus):</th> <td> 0.000</td> <th>  Jarque-Bera (JB):  </th> <td> 106.521</td>\n",
        "</tr>\n",
        "<tr>\n",
        "  <th>Skew:</th>          <td> 0.154</td> <th>  Prob(JB):          </th> <td>7.40e-24</td>\n",
        "</tr>\n",
        "<tr>\n",
        "  <th>Kurtosis:</th>      <td> 8.047</td> <th>  Cond. No.          </th> <td>    274.</td>\n",
        "</tr>\n",
        "</table>"
       ],
       "metadata": {},
       "output_type": "pyout",
       "prompt_number": 41,
       "text": [
        "<class 'statsmodels.iolib.summary.Summary'>\n",
        "\"\"\"\n",
        "                            OLS Regression Results                            \n",
        "==============================================================================\n",
        "Dep. Variable:                      y   R-squared:                       0.946\n",
        "Model:                            OLS   Adj. R-squared:                  0.945\n",
        "Method:                 Least Squares   F-statistic:                     854.8\n",
        "Date:                Mon, 23 Feb 2015   Prob (F-statistic):           2.52e-62\n",
        "Time:                        19:41:00   Log-Likelihood:                -329.62\n",
        "No. Observations:                 100   AIC:                             665.2\n",
        "Df Residuals:                      97   BIC:                             673.1\n",
        "Df Model:                           2                                         \n",
        "==============================================================================\n",
        "                 coef    std err          t      P>|t|      [95.0% Conf. Int.]\n",
        "------------------------------------------------------------------------------\n",
        "Intercept      1.3786      0.800      1.723      0.088        -0.210     2.967\n",
        "x              5.5692      0.255     21.856      0.000         5.063     6.075\n",
        "I(x ** 2)     -0.0883      0.010     -9.127      0.000        -0.107    -0.069\n",
        "==============================================================================\n",
        "Omnibus:                       19.356   Durbin-Watson:                   2.035\n",
        "Prob(Omnibus):                  0.000   Jarque-Bera (JB):              106.521\n",
        "Skew:                           0.154   Prob(JB):                     7.40e-24\n",
        "Kurtosis:                       8.047   Cond. No.                         274.\n",
        "==============================================================================\n",
        "\"\"\""
       ]
      }
     ],
     "prompt_number": 41
    },
    {
     "cell_type": "markdown",
     "metadata": {},
     "source": [
      "# K- Nearest Neighbor"
     ]
    },
    {
     "cell_type": "code",
     "collapsed": false,
     "input": [
      "import pylab as pl\n",
      "import pyreadline\n",
      "import matplotlib as mpl\n",
      "from matplotlib.colors import ListedColormap\n",
      "from sklearn import neighbors"
     ],
     "language": "python",
     "metadata": {},
     "outputs": [],
     "prompt_number": 6
    },
    {
     "cell_type": "code",
     "collapsed": false,
     "input": [
      "iris = pd.read_excel('C:/Users/Sean Najera/OneDrive/lvpythonds/meetings/Meetup_3/iris.xlsx')\n",
      "X = iris[['sepal_L','sepal_W']]  \n",
      "y = iris['type'] "
     ],
     "language": "python",
     "metadata": {},
     "outputs": [],
     "prompt_number": 4
    },
    {
     "cell_type": "markdown",
     "metadata": {},
     "source": [
      "In pattern recognition, the ** k-Nearest Neighbors ** (or ** k-NN ** for short) is a non-parametric method used for classification and regression. In both cases, the input consists of the k closest training examples in the feature space. The output depends on whether k-NN is used for classification or regression:\n",
      "\n",
      "* In k-NN classification, the output is a class membership. An object is classified by a majority vote of its neighbors, with the object being assigned to the class most common among its k nearest neighbors (k is a positive integer, typically small). If k = 1, then the object is simply assigned to the class of that single nearest neighbor.\n",
      "\n",
      "* In k-NN regression, the output is the property value for the object. This value is the average of the values of its k nearest neighbors.\n",
      "\n",
      "k-NN is a type of supervised learning and is among the simplest of all machine learning algorithms.\n",
      "\n",
      "Both for classification and regression, it can be useful to weight the contributions of the neighbors, so that the nearer neighbors contribute more to the average than the more distant ones. For example, a common weighting scheme consists in giving each neighbor a weight of 1/d, where d is the distance to the neighbor.\n",
      "\n",
      "The neighbors are taken from a set of objects for which the class (for k-NN classification) or the object property value (for k-NN regression) is known. This can be thought of as the training set for the algorithm, though no explicit training step is required.\n",
      "\n",
      "A shortcoming of the k-NN algorithm is that it is sensitive to the local structure of the data."
     ]
    },
    {
     "cell_type": "code",
     "collapsed": false,
     "input": [
      "with mpl.rc_context(rc={'font.family': 'serif', 'font.weight': 'bold', 'font.size': 8}):\n",
      "    plt.plot(iris.sepal_L[:50],iris.sepal_W[:50] , 'ro', label = 'Iris Setosa')\n",
      "    plt.plot(iris.sepal_L[50:100],iris.sepal_W[50:100] , 'go', label = 'Iris Versicolor')\n",
      "    plt.plot(iris.sepal_L[101:150],iris.sepal_W[101:150] , 'bo', label = 'Iris Virginica')\n",
      "    plt.ylabel('Sepal Width');plt.xlabel('Sepal Length');plt.title('Iris Type by Sepal Dimensions');plt.legend(loc = 1, fontsize = 'medium')"
     ],
     "language": "python",
     "metadata": {},
     "outputs": [
      {
       "metadata": {},
       "output_type": "display_data",
       "png": "[encoded data removed]",
       "text": [
        "<matplotlib.figure.Figure at 0x6ce71f0>"
       ]
      }
     ],
     "prompt_number": 25
    },
    {
     "cell_type": "markdown",
     "metadata": {},
     "source": [
      "Let us attempt to create a simple classifer of Iris species based on two features\n",
      "\n",
      "* Sepal Length\n",
      "\n",
      "* Sepal Width"
     ]
    },
    {
     "cell_type": "markdown",
     "metadata": {},
     "source": [
      "We create an instance of Neighbors Classifier from the Scikit package and fit the data to a k=8 nearest neighbor model."
     ]
    },
    {
     "cell_type": "code",
     "collapsed": false,
     "input": [
      "k=8\n",
      "clf = neighbors.KNeighborsClassifier(k) #establish settings\n",
      "clf.fit(X, y) #enter the training data"
     ],
     "language": "python",
     "metadata": {},
     "outputs": [
      {
       "metadata": {},
       "output_type": "pyout",
       "prompt_number": 40,
       "text": [
        "KNeighborsClassifier(algorithm='auto', leaf_size=30, metric='minkowski',\n",
        "           metric_params=None, n_neighbors=8, p=2, weights='uniform')"
       ]
      }
     ],
     "prompt_number": 40
    },
    {
     "cell_type": "markdown",
     "metadata": {},
     "source": [
      "Now let us classify all other sepal length/width coordinates by predicting their classification with the model"
     ]
    },
    {
     "cell_type": "code",
     "collapsed": false,
     "input": [
      "#### setting up the plot\n",
      "# Plot the decision boundary. For that, we will assign a color to each\n",
      "# point in the mesh [x_min, m_max]x[y_min, y_max].\n",
      "x_min, x_max = X['sepal_L'].min() - 1, X['sepal_L'].max() + 1\n",
      "y_min, y_max = X['sepal_W'].min() - 1, X['sepal_W'].max() + 1\n",
      "xx, yy = np.meshgrid(np.arange(x_min, x_max, .1),\n",
      "                     np.arange(y_min, y_max, .1))\n",
      "\n",
      "####running the prediction for all the points in the plot\n",
      "Z = clf.predict(np.c_[xx.ravel(), yy.ravel()])"
     ],
     "language": "python",
     "metadata": {},
     "outputs": [],
     "prompt_number": 41
    },
    {
     "cell_type": "markdown",
     "metadata": {},
     "source": [
      "We will now put the results into a color map along with the training points."
     ]
    },
    {
     "cell_type": "code",
     "collapsed": false,
     "input": [
      "with mpl.rc_context(rc={'font.family': 'serif', 'font.weight': 'bold', 'font.size': 8}):\n",
      "    # Create color maps\n",
      "    cmap_light = ListedColormap(['#FFAAAA', '#AAFFAA', '#AAAAFF'])\n",
      "    cmap_bold = ListedColormap(['#FF0000', '#00FF00', '#0000FF'])\n",
      "\n",
      "    # Put the result into a color plot\n",
      "    Z = Z.reshape(xx.shape)\n",
      "    pl.figure()\n",
      "    pl.pcolormesh(xx, yy, Z, cmap=cmap_light)\n",
      "\n",
      "    # Plot the training points\n",
      "    pl.scatter(X['sepal_L'], X['sepal_W'], c=y, cmap=cmap_bold)\n",
      "    pl.xlim(xx.min(), xx.max())\n",
      "    pl.ylim(yy.min(), yy.max())\n",
      "    pl.title(\"3-Class classification (k = %s, Metric = Euclidean Distance)\" % (k))"
     ],
     "language": "python",
     "metadata": {},
     "outputs": [
      {
       "metadata": {},
       "output_type": "display_data",
       "png": "[encoded data removed]",
       "text": [
        "<matplotlib.figure.Figure at 0x6d99310>"
       ]
      }
     ],
     "prompt_number": 42
    },
    {
     "cell_type": "code",
     "collapsed": false,
     "input": [],
     "language": "python",
     "metadata": {},
     "outputs": []
    }
   ],
   "metadata": {}
  }
 ]
}